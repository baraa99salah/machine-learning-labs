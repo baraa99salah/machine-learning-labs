{
 "cells": [
  {
   "cell_type": "code",
   "execution_count": 26,
   "id": "af721a5d-acea-431b-989b-93f013d6d3a4",
   "metadata": {},
   "outputs": [],
   "source": [
    "import numpy as np\n",
    "import pandas as pd\n",
    "import os\n",
    "\n",
    "pokemon = pd.read_csv(\"C:/Users/baraa/PythonCodes/archive/Pokemon.csv\")      # Read the data"
   ]
  },
  {
   "cell_type": "code",
   "execution_count": 27,
   "id": "e3d63929-0532-4ccb-9847-1ad4cb13a043",
   "metadata": {},
   "outputs": [
    {
     "data": {
      "text/plain": [
       "(1104, 13)"
      ]
     },
     "execution_count": 27,
     "metadata": {},
     "output_type": "execute_result"
    }
   ],
   "source": [
    "pokemon.shape"
   ]
  },
  {
   "cell_type": "code",
   "execution_count": 28,
   "id": "6365f77b-c107-4900-a8cb-98a54e92ef7e",
   "metadata": {},
   "outputs": [
    {
     "data": {
      "text/html": [
       "<div>\n",
       "<style scoped>\n",
       "    .dataframe tbody tr th:only-of-type {\n",
       "        vertical-align: middle;\n",
       "    }\n",
       "\n",
       "    .dataframe tbody tr th {\n",
       "        vertical-align: top;\n",
       "    }\n",
       "\n",
       "    .dataframe thead th {\n",
       "        text-align: right;\n",
       "    }\n",
       "</style>\n",
       "<table border=\"1\" class=\"dataframe\">\n",
       "  <thead>\n",
       "    <tr style=\"text-align: right;\">\n",
       "      <th></th>\n",
       "      <th>#</th>\n",
       "      <th>Name</th>\n",
       "      <th>Type 1</th>\n",
       "      <th>Type 2</th>\n",
       "      <th>Total</th>\n",
       "      <th>HP</th>\n",
       "      <th>Attack</th>\n",
       "      <th>Defense</th>\n",
       "      <th>Sp. Atk</th>\n",
       "      <th>Sp. Def</th>\n",
       "      <th>Speed</th>\n",
       "      <th>Generation</th>\n",
       "      <th>Legendary</th>\n",
       "    </tr>\n",
       "  </thead>\n",
       "  <tbody>\n",
       "    <tr>\n",
       "      <th>0</th>\n",
       "      <td>1</td>\n",
       "      <td>Bulbasaur</td>\n",
       "      <td>Grass</td>\n",
       "      <td>Poison</td>\n",
       "      <td>318</td>\n",
       "      <td>45</td>\n",
       "      <td>49</td>\n",
       "      <td>49</td>\n",
       "      <td>65</td>\n",
       "      <td>65</td>\n",
       "      <td>45</td>\n",
       "      <td>1</td>\n",
       "      <td>False</td>\n",
       "    </tr>\n",
       "    <tr>\n",
       "      <th>1</th>\n",
       "      <td>2</td>\n",
       "      <td>Ivysaur</td>\n",
       "      <td>Grass</td>\n",
       "      <td>Poison</td>\n",
       "      <td>405</td>\n",
       "      <td>60</td>\n",
       "      <td>62</td>\n",
       "      <td>63</td>\n",
       "      <td>80</td>\n",
       "      <td>80</td>\n",
       "      <td>60</td>\n",
       "      <td>1</td>\n",
       "      <td>False</td>\n",
       "    </tr>\n",
       "    <tr>\n",
       "      <th>2</th>\n",
       "      <td>3</td>\n",
       "      <td>Venusaur</td>\n",
       "      <td>Grass</td>\n",
       "      <td>Poison</td>\n",
       "      <td>525</td>\n",
       "      <td>80</td>\n",
       "      <td>82</td>\n",
       "      <td>83</td>\n",
       "      <td>100</td>\n",
       "      <td>100</td>\n",
       "      <td>80</td>\n",
       "      <td>1</td>\n",
       "      <td>False</td>\n",
       "    </tr>\n",
       "    <tr>\n",
       "      <th>3</th>\n",
       "      <td>3</td>\n",
       "      <td>VenusaurMega Venusaur</td>\n",
       "      <td>Grass</td>\n",
       "      <td>Poison</td>\n",
       "      <td>625</td>\n",
       "      <td>80</td>\n",
       "      <td>100</td>\n",
       "      <td>123</td>\n",
       "      <td>122</td>\n",
       "      <td>120</td>\n",
       "      <td>80</td>\n",
       "      <td>1</td>\n",
       "      <td>False</td>\n",
       "    </tr>\n",
       "    <tr>\n",
       "      <th>4</th>\n",
       "      <td>4</td>\n",
       "      <td>Charmander</td>\n",
       "      <td>Fire</td>\n",
       "      <td>NaN</td>\n",
       "      <td>309</td>\n",
       "      <td>39</td>\n",
       "      <td>52</td>\n",
       "      <td>43</td>\n",
       "      <td>60</td>\n",
       "      <td>50</td>\n",
       "      <td>65</td>\n",
       "      <td>1</td>\n",
       "      <td>False</td>\n",
       "    </tr>\n",
       "  </tbody>\n",
       "</table>\n",
       "</div>"
      ],
      "text/plain": [
       "   #                   Name Type 1  Type 2  Total  HP  Attack  Defense  \\\n",
       "0  1              Bulbasaur  Grass  Poison    318  45      49       49   \n",
       "1  2                Ivysaur  Grass  Poison    405  60      62       63   \n",
       "2  3               Venusaur  Grass  Poison    525  80      82       83   \n",
       "3  3  VenusaurMega Venusaur  Grass  Poison    625  80     100      123   \n",
       "4  4             Charmander   Fire     NaN    309  39      52       43   \n",
       "\n",
       "   Sp. Atk  Sp. Def  Speed  Generation  Legendary  \n",
       "0       65       65     45           1      False  \n",
       "1       80       80     60           1      False  \n",
       "2      100      100     80           1      False  \n",
       "3      122      120     80           1      False  \n",
       "4       60       50     65           1      False  "
      ]
     },
     "execution_count": 28,
     "metadata": {},
     "output_type": "execute_result"
    }
   ],
   "source": [
    "pokemon.head(5)"
   ]
  },
  {
   "cell_type": "code",
   "execution_count": 29,
   "id": "25616f3a-a559-4e0f-8ec7-7f31671c5496",
   "metadata": {},
   "outputs": [
    {
     "name": "stdout",
     "output_type": "stream",
     "text": [
      "Index(['Name', 'Type 1', 'Type 2'], dtype='object')\n"
     ]
    },
    {
     "data": {
      "text/html": [
       "<div>\n",
       "<style scoped>\n",
       "    .dataframe tbody tr th:only-of-type {\n",
       "        vertical-align: middle;\n",
       "    }\n",
       "\n",
       "    .dataframe tbody tr th {\n",
       "        vertical-align: top;\n",
       "    }\n",
       "\n",
       "    .dataframe thead th {\n",
       "        text-align: right;\n",
       "    }\n",
       "</style>\n",
       "<table border=\"1\" class=\"dataframe\">\n",
       "  <thead>\n",
       "    <tr style=\"text-align: right;\">\n",
       "      <th></th>\n",
       "      <th>Name</th>\n",
       "      <th>Type 1</th>\n",
       "      <th>Type 2</th>\n",
       "    </tr>\n",
       "  </thead>\n",
       "  <tbody>\n",
       "    <tr>\n",
       "      <th>count</th>\n",
       "      <td>1104</td>\n",
       "      <td>1104</td>\n",
       "      <td>592</td>\n",
       "    </tr>\n",
       "    <tr>\n",
       "      <th>unique</th>\n",
       "      <td>1104</td>\n",
       "      <td>20</td>\n",
       "      <td>19</td>\n",
       "    </tr>\n",
       "    <tr>\n",
       "      <th>top</th>\n",
       "      <td>Bulbasaur</td>\n",
       "      <td>Water</td>\n",
       "      <td>Flying</td>\n",
       "    </tr>\n",
       "    <tr>\n",
       "      <th>freq</th>\n",
       "      <td>1</td>\n",
       "      <td>140</td>\n",
       "      <td>110</td>\n",
       "    </tr>\n",
       "  </tbody>\n",
       "</table>\n",
       "</div>"
      ],
      "text/plain": [
       "             Name Type 1  Type 2\n",
       "count        1104   1104     592\n",
       "unique       1104     20      19\n",
       "top     Bulbasaur  Water  Flying\n",
       "freq            1    140     110"
      ]
     },
     "execution_count": 29,
     "metadata": {},
     "output_type": "execute_result"
    }
   ],
   "source": [
    "categorical = pokemon.dtypes[pokemon.dtypes == \"object\"].index\n",
    "print(categorical)\n",
    "\n",
    "pokemon[categorical].describe()"
   ]
  },
  {
   "cell_type": "code",
   "execution_count": 30,
   "id": "10c31663-cf6a-418d-b4da-b4dca8e7aa97",
   "metadata": {},
   "outputs": [
    {
     "data": {
      "text/plain": [
       "0      45\n",
       "1      60\n",
       "2      80\n",
       "3      80\n",
       "4      65\n",
       "5      80\n",
       "6     100\n",
       "7     100\n",
       "8     100\n",
       "9      43\n",
       "10     58\n",
       "11     78\n",
       "12     78\n",
       "13     45\n",
       "14     30\n",
       "Name: Speed, dtype: int64"
      ]
     },
     "execution_count": 30,
     "metadata": {},
     "output_type": "execute_result"
    }
   ],
   "source": [
    "pokemon[\"Speed\"][0:15] "
   ]
  },
  {
   "cell_type": "code",
   "execution_count": 31,
   "id": "435bc5eb-283a-4570-ace0-66d749e2c434",
   "metadata": {},
   "outputs": [
    {
     "data": {
      "text/plain": [
       "count    1104.000000\n",
       "mean       68.994565\n",
       "std        29.724086\n",
       "min         5.000000\n",
       "25%        45.000000\n",
       "50%        65.000000\n",
       "75%        90.000000\n",
       "max       200.000000\n",
       "Name: Speed, dtype: float64"
      ]
     },
     "execution_count": 31,
     "metadata": {},
     "output_type": "execute_result"
    }
   ],
   "source": [
    "pokemon[\"Speed\"].describe()"
   ]
  },
  {
   "cell_type": "code",
   "execution_count": 32,
   "id": "68357c17-1a51-4d74-8107-7dc68da5dee4",
   "metadata": {},
   "outputs": [],
   "source": [
    "del pokemon[\"Speed\"]"
   ]
  },
  {
   "cell_type": "code",
   "execution_count": 33,
   "id": "2ec3c728-ac01-4aa0-95eb-e787d36be2d4",
   "metadata": {},
   "outputs": [
    {
     "data": {
      "text/html": [
       "<div>\n",
       "<style scoped>\n",
       "    .dataframe tbody tr th:only-of-type {\n",
       "        vertical-align: middle;\n",
       "    }\n",
       "\n",
       "    .dataframe tbody tr th {\n",
       "        vertical-align: top;\n",
       "    }\n",
       "\n",
       "    .dataframe thead th {\n",
       "        text-align: right;\n",
       "    }\n",
       "</style>\n",
       "<table border=\"1\" class=\"dataframe\">\n",
       "  <thead>\n",
       "    <tr style=\"text-align: right;\">\n",
       "      <th></th>\n",
       "      <th>counts</th>\n",
       "      <th>freqs</th>\n",
       "    </tr>\n",
       "    <tr>\n",
       "      <th>categories</th>\n",
       "      <th></th>\n",
       "      <th></th>\n",
       "    </tr>\n",
       "  </thead>\n",
       "  <tbody>\n",
       "    <tr>\n",
       "      <th>Class1</th>\n",
       "      <td>166</td>\n",
       "      <td>0.150362</td>\n",
       "    </tr>\n",
       "    <tr>\n",
       "      <th>Class2</th>\n",
       "      <td>106</td>\n",
       "      <td>0.096014</td>\n",
       "    </tr>\n",
       "    <tr>\n",
       "      <th>Class3</th>\n",
       "      <td>160</td>\n",
       "      <td>0.144928</td>\n",
       "    </tr>\n",
       "    <tr>\n",
       "      <th>Class4</th>\n",
       "      <td>121</td>\n",
       "      <td>0.109601</td>\n",
       "    </tr>\n",
       "    <tr>\n",
       "      <th>Class5</th>\n",
       "      <td>165</td>\n",
       "      <td>0.149457</td>\n",
       "    </tr>\n",
       "    <tr>\n",
       "      <th>Class6</th>\n",
       "      <td>82</td>\n",
       "      <td>0.074275</td>\n",
       "    </tr>\n",
       "    <tr>\n",
       "      <th>Class7</th>\n",
       "      <td>88</td>\n",
       "      <td>0.079710</td>\n",
       "    </tr>\n",
       "    <tr>\n",
       "      <th>Class8</th>\n",
       "      <td>96</td>\n",
       "      <td>0.086957</td>\n",
       "    </tr>\n",
       "    <tr>\n",
       "      <th>Class9</th>\n",
       "      <td>120</td>\n",
       "      <td>0.108696</td>\n",
       "    </tr>\n",
       "  </tbody>\n",
       "</table>\n",
       "</div>"
      ],
      "text/plain": [
       "            counts     freqs\n",
       "categories                  \n",
       "Class1         166  0.150362\n",
       "Class2         106  0.096014\n",
       "Class3         160  0.144928\n",
       "Class4         121  0.109601\n",
       "Class5         165  0.149457\n",
       "Class6          82  0.074275\n",
       "Class7          88  0.079710\n",
       "Class8          96  0.086957\n",
       "Class9         120  0.108696"
      ]
     },
     "execution_count": 33,
     "metadata": {},
     "output_type": "execute_result"
    }
   ],
   "source": [
    "new_Generation = pd.Categorical(pokemon[\"Generation\"],\n",
    "                           ordered=True)\n",
    "\n",
    "new_Generation = new_Generation.rename_categories([\"Class1\",\"Class2\",\"Class3\",\"Class4\",\"Class5\",\"Class6\",\"Class7\",\"Class8\",\"Class9\"])     \n",
    "\n",
    "new_Generation.describe()"
   ]
  },
  {
   "cell_type": "code",
   "execution_count": 23,
   "id": "d400298e-2ca4-4d9d-a9cc-dd3656879e47",
   "metadata": {},
   "outputs": [],
   "source": [
    "pokemon[\"Generation\"] = new_Generation"
   ]
  },
  {
   "cell_type": "code",
   "execution_count": 34,
   "id": "5b66abd9-5988-4c32-852b-9f06141f5414",
   "metadata": {},
   "outputs": [
    {
     "data": {
      "text/plain": [
       "array(['Poison', nan, 'Flying', 'Dragon', 'Ground', 'Fairy', 'Grass',\n",
       "       'Fighting', 'Psychic', 'Steel', 'Ice', 'Rock', 'Dark', 'Water',\n",
       "       'Electric', 'Fire', 'Ghost', 'Bug', 'Normal', 'ice'], dtype=object)"
      ]
     },
     "execution_count": 34,
     "metadata": {},
     "output_type": "execute_result"
    }
   ],
   "source": [
    "pokemon[\"Type 2\"].unique()   "
   ]
  },
  {
   "cell_type": "code",
   "execution_count": 35,
   "id": "c55a41e5-2707-4cb3-975c-863e73ec8ff9",
   "metadata": {},
   "outputs": [
    {
     "data": {
      "text/html": [
       "<div>\n",
       "<style scoped>\n",
       "    .dataframe tbody tr th:only-of-type {\n",
       "        vertical-align: middle;\n",
       "    }\n",
       "\n",
       "    .dataframe tbody tr th {\n",
       "        vertical-align: top;\n",
       "    }\n",
       "\n",
       "    .dataframe thead th {\n",
       "        text-align: right;\n",
       "    }\n",
       "</style>\n",
       "<table border=\"1\" class=\"dataframe\">\n",
       "  <thead>\n",
       "    <tr style=\"text-align: right;\">\n",
       "      <th></th>\n",
       "      <th>counts</th>\n",
       "      <th>freqs</th>\n",
       "    </tr>\n",
       "    <tr>\n",
       "      <th>categories</th>\n",
       "      <th></th>\n",
       "      <th></th>\n",
       "    </tr>\n",
       "  </thead>\n",
       "  <tbody>\n",
       "    <tr>\n",
       "      <th>B</th>\n",
       "      <td>9</td>\n",
       "      <td>0.008152</td>\n",
       "    </tr>\n",
       "    <tr>\n",
       "      <th>D</th>\n",
       "      <td>65</td>\n",
       "      <td>0.058877</td>\n",
       "    </tr>\n",
       "    <tr>\n",
       "      <th>E</th>\n",
       "      <td>10</td>\n",
       "      <td>0.009058</td>\n",
       "    </tr>\n",
       "    <tr>\n",
       "      <th>F</th>\n",
       "      <td>208</td>\n",
       "      <td>0.188406</td>\n",
       "    </tr>\n",
       "    <tr>\n",
       "      <th>G</th>\n",
       "      <td>103</td>\n",
       "      <td>0.093297</td>\n",
       "    </tr>\n",
       "    <tr>\n",
       "      <th>I</th>\n",
       "      <td>20</td>\n",
       "      <td>0.018116</td>\n",
       "    </tr>\n",
       "    <tr>\n",
       "      <th>N</th>\n",
       "      <td>13</td>\n",
       "      <td>0.011775</td>\n",
       "    </tr>\n",
       "    <tr>\n",
       "      <th>P</th>\n",
       "      <td>91</td>\n",
       "      <td>0.082428</td>\n",
       "    </tr>\n",
       "    <tr>\n",
       "      <th>R</th>\n",
       "      <td>16</td>\n",
       "      <td>0.014493</td>\n",
       "    </tr>\n",
       "    <tr>\n",
       "      <th>S</th>\n",
       "      <td>34</td>\n",
       "      <td>0.030797</td>\n",
       "    </tr>\n",
       "    <tr>\n",
       "      <th>W</th>\n",
       "      <td>22</td>\n",
       "      <td>0.019928</td>\n",
       "    </tr>\n",
       "    <tr>\n",
       "      <th>i</th>\n",
       "      <td>1</td>\n",
       "      <td>0.000906</td>\n",
       "    </tr>\n",
       "    <tr>\n",
       "      <th>n</th>\n",
       "      <td>512</td>\n",
       "      <td>0.463768</td>\n",
       "    </tr>\n",
       "  </tbody>\n",
       "</table>\n",
       "</div>"
      ],
      "text/plain": [
       "            counts     freqs\n",
       "categories                  \n",
       "B                9  0.008152\n",
       "D               65  0.058877\n",
       "E               10  0.009058\n",
       "F              208  0.188406\n",
       "G              103  0.093297\n",
       "I               20  0.018116\n",
       "N               13  0.011775\n",
       "P               91  0.082428\n",
       "R               16  0.014493\n",
       "S               34  0.030797\n",
       "W               22  0.019928\n",
       "i                1  0.000906\n",
       "n              512  0.463768"
      ]
     },
     "execution_count": 35,
     "metadata": {},
     "output_type": "execute_result"
    }
   ],
   "source": [
    "char_Type_2 = pokemon[\"Type 2\"].astype(str) # Convert data to str\n",
    "\n",
    "new_Type_2 = np.array([Type2[0] for Type2 in char_Type_2]) # Take first letter\n",
    "\n",
    "new_Type_2 = pd.Categorical(new_Type_2)\n",
    "\n",
    "new_Type_2 .describe()"
   ]
  },
  {
   "cell_type": "code",
   "execution_count": 36,
   "id": "3ac40c8f-cf62-4c54-8090-f26edd5dc12a",
   "metadata": {},
   "outputs": [],
   "source": [
    "pokemon[\"Type 2\"] = new_Type_2"
   ]
  },
  {
   "cell_type": "code",
   "execution_count": 37,
   "id": "f4b28ddc-68c1-4234-bf47-c3d479abdf23",
   "metadata": {},
   "outputs": [
    {
     "data": {
      "text/plain": [
       "0    False\n",
       "1     True\n",
       "2    False\n",
       "3     True\n",
       "4    False\n",
       "5    False\n",
       "dtype: bool"
      ]
     },
     "execution_count": 37,
     "metadata": {},
     "output_type": "execute_result"
    }
   ],
   "source": [
    "dummy_vector = pd.Series([1,None,3,None,7,8])\n",
    "\n",
    "dummy_vector.isnull()"
   ]
  },
  {
   "cell_type": "code",
   "execution_count": 38,
   "id": "4a287bbd-1e77-48a8-b692-5838596686e8",
   "metadata": {},
   "outputs": [
    {
     "data": {
      "text/plain": [
       "count    1104.000000\n",
       "mean       70.655797\n",
       "std        26.448074\n",
       "min         1.000000\n",
       "25%        50.000000\n",
       "50%        68.000000\n",
       "75%        85.000000\n",
       "max       255.000000\n",
       "Name: HP, dtype: float64"
      ]
     },
     "execution_count": 38,
     "metadata": {},
     "output_type": "execute_result"
    }
   ],
   "source": [
    "pokemon[\"HP\"].describe()"
   ]
  },
  {
   "cell_type": "code",
   "execution_count": 40,
   "id": "b9229669-6ccc-4f32-9b5e-3b1dc2422de6",
   "metadata": {},
   "outputs": [
    {
     "data": {
      "text/plain": [
       "(array([], dtype=int64),)"
      ]
     },
     "execution_count": 40,
     "metadata": {},
     "output_type": "execute_result"
    }
   ],
   "source": [
    "missing = np.where(pokemon[\"HP\"].isnull() == True)\n",
    "missing"
   ]
  },
  {
   "cell_type": "code",
   "execution_count": 41,
   "id": "384aa716-8164-4cbe-95d8-7577396653d5",
   "metadata": {},
   "outputs": [
    {
     "data": {
      "text/plain": [
       "0"
      ]
     },
     "execution_count": 41,
     "metadata": {},
     "output_type": "execute_result"
    }
   ],
   "source": [
    "len(missing[0])"
   ]
  },
  {
   "cell_type": "code",
   "execution_count": 42,
   "id": "78df1596-bba2-4e39-8dfd-dc35a11cdb17",
   "metadata": {},
   "outputs": [
    {
     "data": {
      "text/plain": [
       "array([[<Axes: title={'center': 'HP'}>]], dtype=object)"
      ]
     },
     "execution_count": 42,
     "metadata": {},
     "output_type": "execute_result"
    },
    {
     "data": {
      "image/png": "[encoded data removed]",
      "text/plain": [
       "<Figure size 900x600 with 1 Axes>"
      ]
     },
     "metadata": {},
     "output_type": "display_data"
    }
   ],
   "source": [
    "pokemon.hist(column='HP',   \n",
    "                   figsize=(9,6), \n",
    "                   bins=20)  "
   ]
  },
  {
   "cell_type": "code",
   "execution_count": 43,
   "id": "a799084a-fd70-4333-8d37-edf1f442c918",
   "metadata": {},
   "outputs": [
    {
     "data": {
      "text/plain": [
       "count    1104.000000\n",
       "mean       70.655797\n",
       "std        26.448074\n",
       "min         1.000000\n",
       "25%        50.000000\n",
       "50%        68.000000\n",
       "75%        85.000000\n",
       "max       255.000000\n",
       "Name: HP, dtype: float64"
      ]
     },
     "execution_count": 43,
     "metadata": {},
     "output_type": "execute_result"
    }
   ],
   "source": [
    "new_HP_var = np.where(titanic_train[\"HP\"].isnull(),\n",
    "                       28,                       \n",
    "                       pokemon[\"HP\"])    \n",
    "\n",
    "pokemon[\"HP\"] = new_HP_var\n",
    "\n",
    "pokemon[\"HP\"].describe()"
   ]
  },
  {
   "cell_type": "code",
   "execution_count": 44,
   "id": "cbbb4113-0413-4484-8a2e-b9b3b953b8a1",
   "metadata": {},
   "outputs": [
    {
     "data": {
      "text/plain": [
       "array([[<Axes: title={'center': 'HP'}>]], dtype=object)"
      ]
     },
     "execution_count": 44,
     "metadata": {},
     "output_type": "execute_result"
    },
    {
     "data": {
      "image/png": "[encoded data removed]",
      "text/plain": [
       "<Figure size 900x600 with 1 Axes>"
      ]
     },
     "metadata": {},
     "output_type": "display_data"
    }
   ],
   "source": [
    "pokemon.hist(column='HP',  \n",
    "                   figsize=(9,6),   \n",
    "                   bins=20)    "
   ]
  },
  {
   "cell_type": "code",
   "execution_count": null,
   "id": "5f3b704c-1d5e-4cfb-9a7e-311acef9dd65",
   "metadata": {},
   "outputs": [],
   "source": []
  }
 ],
 "metadata": {
  "kernelspec": {
   "display_name": "Python 3 (ipykernel)",
   "language": "python",
   "name": "python3"
  },
  "language_info": {
   "codemirror_mode": {
    "name": "ipython",
    "version": 3
   },
   "file_extension": ".py",
   "mimetype": "text/x-python",
   "name": "python",
   "nbconvert_exporter": "python",
   "pygments_lexer": "ipython3",
   "version": "3.11.7"
  }
 },
 "nbformat": 4,
 "nbformat_minor": 5
}
